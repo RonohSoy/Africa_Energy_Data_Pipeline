{
 "cells": [
  {
   "metadata": {},
   "cell_type": "markdown",
   "source": [
    "# AFRICA ENERGY DATA ETL PIPELINE\n",
    "\n",
    "1. Extract data from Africa Energy Portal API using cloudscraper.\n",
    "2. Transform and structure the data into a unified yearly format.\n",
    "3. Validate and clean for missing or duplicate records.\n",
    "4. Load into MongoDB Atlas cluster.\n",
    "\n",
    "Author: Peter Kiptoo Ronoh\n"
   ],
   "id": "8626460609bddeb1"
  },
  {
   "metadata": {
    "ExecuteTime": {
     "end_time": "2025-10-25T12:49:05.103629Z",
     "start_time": "2025-10-25T12:49:05.089804Z"
    }
   },
   "cell_type": "code",
   "source": [
    "import cloudscraper\n",
    "import json\n",
    "import os\n",
    "import time\n",
    "from collections import defaultdict, Counter\n",
    "from pymongo import MongoClient\n",
    "from urllib.parse import quote_plus\n",
    "import pandas as pd"
   ],
   "id": "26fbb22e71632fa",
   "outputs": [],
   "execution_count": 41
  },
  {
   "metadata": {},
   "cell_type": "markdown",
   "source": [
    "\n",
    "## 1. DATA EXTRACTION\n"
   ],
   "id": "b893971d2ca02453"
  },
  {
   "metadata": {
    "ExecuteTime": {
     "end_time": "2025-10-25T12:49:13.749624Z",
     "start_time": "2025-10-25T12:49:13.726136Z"
    }
   },
   "cell_type": "code",
   "source": [
    "def extract_data(output_file=\"africa_energy_data.json\"):\n",
    "    \"\"\"Scrape electricity data from Africa Energy Portal.\"\"\"\n",
    "    scraper = cloudscraper.create_scraper(\n",
    "        browser={\"browser\": \"chrome\", \"platform\": \"windows\", \"mobile\": False}\n",
    "    )\n",
    "\n",
    "    url = \"https://africa-energy-portal.org/get-database-data\"\n",
    "    payload = {\n",
    "        \"mainGroup\": \"Electricity\",\n",
    "        \"mainIndicator[]\": [\"Access\", \"Supply\", \"Technical\"],\n",
    "        \"mainIndicatorValue[]\": [\n",
    "            \"Population access to electricity-National (% of population)\",\n",
    "            \"Population access to electricity-Rural (% of population)\",\n",
    "            \"Population access to electricity-Urban (% of population)\",\n",
    "            \"Population with access to electricity-National (millions of people)\",\n",
    "            \"Population with access to electricity-Rural (millions of people)\",\n",
    "            \"Population with access to electricity-Urban (millions of people)\",\n",
    "            \"Population without access to electricity-National (millions of people)\",\n",
    "            \"Population without access to electricity-Rural (millions of people)\",\n",
    "            \"Population without access to electricity-Urban (millions of people)\",\n",
    "            \"Electricity export (GWh)\",\n",
    "            \"Electricity final consumption (GWh)\",\n",
    "            \"Electricity final consumption per capita (KWh)\",\n",
    "            \"Electricity generated from biofuels and waste (GWh)\",\n",
    "            \"Electricity generated from fossil fuels (GWh)\",\n",
    "            \"Electricity generated from geothermal energy (GWh)\",\n",
    "            \"Electricity generated from hydropower (GWh)\",\n",
    "            \"Electricity generated from nuclear power (GWh)\",\n",
    "            \"Electricity generated from renewable sources (GWh)\",\n",
    "            \"Electricity generated from solar, wind, tide, wave and other sources (GWh)\",\n",
    "            \"Electricity generation per capita (KWh)\",\n",
    "            \"Electricity generation, Total (GWh)\",\n",
    "            \"Electricity import (GWh)\",\n",
    "            \"Electricity: Net imports (+ GWh)\",\n",
    "            \"Electricity installed capacity in Bioenergy (MW)\",\n",
    "            \"Electricity installed capacity in Fossil fuels (MW)\",\n",
    "            \"Electricity installed capacity in Geothermal (MW)\",\n",
    "            \"Electricity installed capacity in Hydropower (MW)\",\n",
    "            \"Electricity installed capacity in Non-renewable energy (MW)\",\n",
    "            \"Electricity installed capacity in Nuclear (MW)\",\n",
    "            \"Electricity installed capacity in Solar (MW)\",\n",
    "            \"Electricity installed capacity in Total renewable energy (MW)\",\n",
    "            \"Electricity installed capacity in Wind (MW)\",\n",
    "            \"Electricity installed capacity in other Non-renewable energy (MW)\",\n",
    "            \"Electricity installed capacity, Total (MW)\"\n",
    "        ],\n",
    "        \"year[]\": list(range(2000, 2023)),\n",
    "        \"name[]\": [\n",
    "            \"Algeria\", \"Angola\", \"Benin\", \"Botswana\", \"Burkina Faso\", \"Burundi\",\n",
    "            \"Cameroon\", \"Cape Verde\", \"Central African Republic\", \"Chad\",\n",
    "            \"Comoros\", \"Congo Democratic Republic\", \"Congo Republic\", \"Cote d'Ivoire\",\n",
    "            \"Djibouti\", \"Egypt\", \"Equatorial Guinea\", \"Eritrea\", \"Eswatini\",\n",
    "            \"Ethiopia\", \"Gabon\", \"Gambia\", \"Ghana\", \"Guinea\", \"Guinea Bissau\",\n",
    "            \"Kenya\", \"Lesotho\", \"Liberia\", \"Libya\", \"Madagascar\", \"Malawi\",\n",
    "            \"Mali\", \"Mauritania\", \"Mauritius\", \"Morocco\", \"Mozambique\",\n",
    "            \"Namibia\", \"Niger\", \"Nigeria\", \"Rwanda\", \"Sao Tome and Principe\",\n",
    "            \"Senegal\", \"Seychelles\", \"Sierra Leone\", \"Somalia\", \"South Africa\",\n",
    "            \"South Sudan\", \"Sudan\", \"Tanzania\", \"Togo\", \"Tunisia\", \"Uganda\",\n",
    "            \"Zambia\", \"Zimbabwe\"\n",
    "        ]\n",
    "    }\n",
    "\n",
    "    print(\"Fetching data from Africa Energy Portal...\")\n",
    "    response = scraper.post(url, data=payload)\n",
    "    print(f\"Status Code: {response.status_code}\")\n",
    "\n",
    "    try:\n",
    "        data = response.json()\n",
    "        if isinstance(data, list):\n",
    "            records = data\n",
    "        elif isinstance(data, dict):\n",
    "            records = data.get(\"data\", [])\n",
    "        else:\n",
    "            records = []\n",
    "\n",
    "        print(f\"Total records fetched: {len(records)}\")\n",
    "\n",
    "        with open(output_file, \"w\", encoding=\"utf-8\") as f:\n",
    "            json.dump(records, f, ensure_ascii=False, indent=2)\n",
    "        print(f\"Data saved to {output_file}\")\n",
    "\n",
    "    except Exception as e:\n",
    "        print(\"Error during extraction:\", e)"
   ],
   "id": "1142e60978569031",
   "outputs": [],
   "execution_count": 42
  },
  {
   "metadata": {},
   "cell_type": "markdown",
   "source": "## 2. TRANSFORMATION",
   "id": "500c73285269d9d0"
  },
  {
   "metadata": {
    "ExecuteTime": {
     "end_time": "2025-10-25T12:51:16.546476Z",
     "start_time": "2025-10-25T12:51:16.521904Z"
    }
   },
   "cell_type": "code",
   "source": [
    "def transform_data(input_file=\"africa_energy_data.json\", output_file=\"formatted_africa_energy_data.json\"):\n",
    "    \"\"\"Format raw API data into a structured table by year and country.\"\"\"\n",
    "    with open(input_file, \"r\", encoding=\"utf-8\") as f:\n",
    "        raw_data = json.load(f)\n",
    "\n",
    "    years = list(range(2000, 2025))\n",
    "    formatted = {}\n",
    "\n",
    "    for record in raw_data:\n",
    "        country = record.get(\"name\")\n",
    "        code = record.get(\"id\")\n",
    "        metric = record.get(\"indicator_name\")\n",
    "        unit = record.get(\"unit\")\n",
    "        sector = record.get(\"indicator_group\")\n",
    "        sub_sector = record.get(\"indicator_topic\")\n",
    "        year = record.get(\"year\")\n",
    "        value = record.get(\"score\")\n",
    "        link = \"https://africa-energy-portal.org\" + record.get(\"url\", \"\")\n",
    "\n",
    "        key = (country, metric)\n",
    "        if key not in formatted:\n",
    "            formatted[key] = {\n",
    "                \"country\": country,\n",
    "                \"country_serial\": code,\n",
    "                \"metric\": metric,\n",
    "                \"unit\": unit,\n",
    "                \"sector\": sector,\n",
    "                \"sub_sector\": sub_sector,\n",
    "                \"source_link\": link,\n",
    "                \"source\": \"Africa Energy Portal\"\n",
    "            }\n",
    "            for y in years:\n",
    "                formatted[key][str(y)] = None\n",
    "\n",
    "        if str(year) in formatted[key]:\n",
    "            formatted[key][str(year)] = value\n",
    "\n",
    "    formatted_list = list(formatted.values())\n",
    "    with open(output_file, \"w\", encoding=\"utf-8\") as f:\n",
    "        json.dump(formatted_list, f, ensure_ascii=False, indent=2)\n",
    "\n",
    "    print(f\"Formatted {len(formatted_list)} records saved to {output_file}\")"
   ],
   "id": "7312d44aef20de4a",
   "outputs": [],
   "execution_count": 43
  },
  {
   "metadata": {},
   "cell_type": "markdown",
   "source": "## 3. VALIDATION",
   "id": "f4ae2315c5e1e7c9"
  },
  {
   "metadata": {
    "ExecuteTime": {
     "end_time": "2025-10-25T12:52:40.504574Z",
     "start_time": "2025-10-25T12:52:40.483228Z"
    }
   },
   "cell_type": "code",
   "source": [
    "def validate_data(input_file=\"formatted_africa_energy_data.json\"):\n",
    "    \"\"\"Perform data integrity checks.\"\"\"\n",
    "    with open(input_file, \"r\", encoding=\"utf-8\") as f:\n",
    "        data = json.load(f)\n",
    "\n",
    "    years = [str(y) for y in range(2000, 2023)]\n",
    "    expected_subsectors = {\"Access\", \"Supply\", \"Technical\"}\n",
    "\n",
    "    missing_years_summary = []\n",
    "    duplicates = set()\n",
    "    seen = set()\n",
    "    country_subsectors = defaultdict(set)\n",
    "\n",
    "    for record in data:\n",
    "        country = record.get(\"country\")\n",
    "        metric = record.get(\"metric\")\n",
    "        subsector = record.get(\"sub_sector\")\n",
    "\n",
    "        if country and subsector:\n",
    "            country_subsectors[country].add(subsector)\n",
    "\n",
    "        combo_key = (country, metric)\n",
    "        if combo_key in seen:\n",
    "            duplicates.add(combo_key)\n",
    "        else:\n",
    "            seen.add(combo_key)\n",
    "\n",
    "        missing_years = [year for year in years if record.get(year) in (None, \"\", \"NaN\")]\n",
    "        if missing_years:\n",
    "            missing_years_summary.append({\n",
    "                \"country\": country,\n",
    "                \"metric\": metric,\n",
    "                \"missing_years\": missing_years\n",
    "            })\n",
    "\n",
    "    missing_subsector_summary = []\n",
    "    for country, subsectors in country_subsectors.items():\n",
    "        missing = expected_subsectors - subsectors\n",
    "        if missing:\n",
    "            missing_subsector_summary.append({\n",
    "                \"country\": country,\n",
    "                \"missing_subsectors\": list(missing)\n",
    "            })\n",
    "\n",
    "    with open(\"validation_report.json\", \"w\", encoding=\"utf-8\") as f:\n",
    "        json.dump({\n",
    "            \"missing_years\": missing_years_summary,\n",
    "            \"duplicates\": list(duplicates),\n",
    "            \"missing_subsectors\": missing_subsector_summary\n",
    "        }, f, ensure_ascii=False, indent=2)\n",
    "\n",
    "    print(\"Validation report saved as validation_report.json\")"
   ],
   "id": "f354d8d7b7659148",
   "outputs": [],
   "execution_count": 44
  },
  {
   "metadata": {},
   "cell_type": "markdown",
   "source": "## 4. LOAD TO MONGODB ATLAS",
   "id": "e525d5859bf006e7"
  },
  {
   "metadata": {
    "ExecuteTime": {
     "end_time": "2025-10-25T12:54:38.933748Z",
     "start_time": "2025-10-25T12:54:38.881594Z"
    }
   },
   "cell_type": "code",
   "source": [
    "def load_to_mongo(json_file=\"formatted_africa_energy_data.json\"):\n",
    "    \"\"\"Upload cleaned data to MongoDB Atlas.\"\"\"\n",
    "    DB_USERNAME = \"pitronsoy_db_user\"\n",
    "    DB_PASSWORD = \"K1pl4ng'4t18@64..\"\n",
    "    CLUSTER_HOST = \"africaenergydb.9daoan.mongodb.net\"\n",
    "    DB_NAME = \"AfricaEnergyDB\"\n",
    "    COLLECTION_NAME = \"EnergyData\"\n",
    "\n",
    "    encoded_password = quote_plus(DB_PASSWORD)\n",
    "    MONGO_URI = f\"mongodb+srv://{DB_USERNAME}:{encoded_password}@{CLUSTER_HOST}/?retryWrites=true&w=majority\"\n",
    "\n",
    "    try:\n",
    "        client = MongoClient(MONGO_URI, serverSelectionTimeoutMS=5000)\n",
    "        client.admin.command('ping')\n",
    "        db = client[DB_NAME]\n",
    "        collection = db[COLLECTION_NAME]\n",
    "        print(\"Connected to MongoDB Atlas.\")\n",
    "    except Exception as e:\n",
    "        print(\"Connection failed:\", e)\n",
    "        return\n",
    "\n",
    "    if not os.path.exists(json_file):\n",
    "        print(f\"File not found: {json_file}\")\n",
    "        return\n",
    "\n",
    "    with open(json_file, \"r\", encoding=\"utf-8\") as f:\n",
    "        data = json.load(f)\n",
    "\n",
    "    batch_size = 500\n",
    "    try:\n",
    "        if isinstance(data, list):\n",
    "            for i in range(0, len(data), batch_size):\n",
    "                collection.insert_many(data[i:i + batch_size])\n",
    "            print(f\"Inserted {len(data)} records into '{COLLECTION_NAME}'.\")\n",
    "        else:\n",
    "            collection.insert_one(data)\n",
    "    except Exception as e:\n",
    "        print(\"Failed to insert data:\", e)\n",
    "        return\n",
    "\n",
    "    print(\"Data successfully uploaded to MongoDB Atlas.\")"
   ],
   "id": "e0aa5ff0b429fa0e",
   "outputs": [],
   "execution_count": 45
  },
  {
   "metadata": {},
   "cell_type": "markdown",
   "source": "## EXECUTION PIPELINE",
   "id": "e972464bc90599b4"
  },
  {
   "metadata": {
    "ExecuteTime": {
     "end_time": "2025-10-25T12:56:07.536016Z",
     "start_time": "2025-10-25T12:55:57.812680Z"
    }
   },
   "cell_type": "code",
   "source": [
    "if __name__ == \"__main__\":\n",
    "    extract_data()\n",
    "    transform_data()\n",
    "    validate_data()\n",
    "    load_to_mongo()"
   ],
   "id": "3682851407331069",
   "outputs": [
    {
     "name": "stdout",
     "output_type": "stream",
     "text": [
      "Fetching data from Africa Energy Portal...\n",
      "Status Code: 200\n",
      "Total records fetched: 33\n",
      "Data saved to africa_energy_data.json\n",
      "Formatted 1 records saved to formatted_africa_energy_data.json\n",
      "Validation report saved as validation_report.json\n",
      "Connected to MongoDB Atlas.\n",
      "Inserted 1 records into 'EnergyData'.\n",
      "Data successfully uploaded to MongoDB Atlas.\n"
     ]
    }
   ],
   "execution_count": 46
  }
 ],
 "metadata": {
  "kernelspec": {
   "display_name": "Python 3",
   "language": "python",
   "name": "python3"
  },
  "language_info": {
   "codemirror_mode": {
    "name": "ipython",
    "version": 2
   },
   "file_extension": ".py",
   "mimetype": "text/x-python",
   "name": "python",
   "nbconvert_exporter": "python",
   "pygments_lexer": "ipython2",
   "version": "2.7.6"
  }
 },
 "nbformat": 4,
 "nbformat_minor": 5
}
